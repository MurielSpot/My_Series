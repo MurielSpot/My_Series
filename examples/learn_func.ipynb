{
 "cells": [
  {
   "cell_type": "markdown",
   "metadata": {},
   "source": [
    "# python的一些不熟悉的用法"
   ]
  },
  {
   "cell_type": "markdown",
   "metadata": {},
   "source": [
    "## pathlib模块"
   ]
  },
  {
   "cell_type": "code",
   "execution_count": 1,
   "metadata": {},
   "outputs": [],
   "source": [
    "from pathlib import Path"
   ]
  },
  {
   "cell_type": "code",
   "execution_count": 2,
   "metadata": {},
   "outputs": [
    {
     "name": "stdout",
     "output_type": "stream",
     "text": [
      "遍历子目录或者文件: [WindowsPath('.ipynb_checkpoints'), WindowsPath('dataset'), WindowsPath('exam_lime_multiclass.ipynb'), WindowsPath('exam_lime_regression.ipynb'), WindowsPath('tmp.py'), WindowsPath('Untitled.ipynb')]\n"
     ]
    }
   ],
   "source": [
    "print(\"遍历子目录或者文件:\",list(Path(\"./\").iterdir()))"
   ]
  },
  {
   "cell_type": "code",
   "execution_count": 3,
   "metadata": {},
   "outputs": [
    {
     "name": "stdout",
     "output_type": "stream",
     "text": [
      "判断是否是目录: True\n"
     ]
    }
   ],
   "source": [
    "path=Path(\"./\")\n",
    "print(\"判断是否是目录:\",Path.is_dir(path))"
   ]
  },
  {
   "cell_type": "code",
   "execution_count": 4,
   "metadata": {},
   "outputs": [
    {
     "name": "stdout",
     "output_type": "stream",
     "text": [
      "判断是否是目录: False\n"
     ]
    }
   ],
   "source": [
    "path=Path(\"./myBert.py\")\n",
    "print(\"判断是否是目录:\",Path.is_dir(path))"
   ]
  },
  {
   "cell_type": "code",
   "execution_count": 5,
   "metadata": {},
   "outputs": [
    {
     "name": "stdout",
     "output_type": "stream",
     "text": [
      "过滤目录(返回生成器): [WindowsPath('tmp.py')]\n"
     ]
    }
   ],
   "source": [
    "print(\"过滤目录(返回生成器):\",list(Path(\"./\").glob(\"*.py\")))"
   ]
  },
  {
   "cell_type": "code",
   "execution_count": 6,
   "metadata": {},
   "outputs": [
    {
     "name": "stdout",
     "output_type": "stream",
     "text": [
      "创建目录: None\n"
     ]
    }
   ],
   "source": [
    "print(\"创建目录:\",Path(\"tmp\").mkdir(exist_ok=True))"
   ]
  },
  {
   "cell_type": "code",
   "execution_count": 8,
   "metadata": {},
   "outputs": [
    {
     "name": "stdout",
     "output_type": "stream",
     "text": [
      "带后缀的完整文件名 .ipynb_checkpoints\n"
     ]
    }
   ],
   "source": [
    "print(\"带后缀的完整文件名\",Path(\".ipynb_checkpoints\").name)"
   ]
  },
  {
   "cell_type": "code",
   "execution_count": 12,
   "metadata": {},
   "outputs": [
    {
     "name": "stdout",
     "output_type": "stream",
     "text": [
      "#!/usr/bin/env python3\n",
      "# -*- coding: utf-8 -*-\n",
      "\n",
      "if __name__==\"__main__\":\n",
      "    pass\n"
     ]
    }
   ],
   "source": [
    "# 用pathlib打开文件\n",
    "with Path(\"./tmp.py\").open(\"r\",encoding=\"utf-8\") as f:\n",
    "    print(f.read())"
   ]
  },
  {
   "cell_type": "markdown",
   "metadata": {},
   "source": [
    "## logging模块"
   ]
  },
  {
   "cell_type": "code",
   "execution_count": 9,
   "metadata": {},
   "outputs": [],
   "source": [
    "'''\n",
    "logging模块是Python内置的标准模块，主要用于输出运行日志，可以设置输出日志的等级、日志保存路径、日志文件回滚等；\n",
    "相比print，具备如下优点：\n",
    "    可以通过设置不同的日志等级，在release版本中只输出重要信息，而不必显示大量的调试信息；\n",
    "    print将所有信息都输出到标准输出中，严重影响开发者从标准输出中查看其它数据；\n",
    "    logging则可以由开发者决定将信息输出到什么地方，以及怎么输出；\n",
    "'''\n",
    "import logging"
   ]
  },
  {
   "cell_type": "code",
   "execution_count": 10,
   "metadata": {},
   "outputs": [
    {
     "name": "stderr",
     "output_type": "stream",
     "text": [
      "2019-12-09 09:27:13,952 - __main__ - INFO - Start print log\n",
      "2019-12-09 09:27:13,952 - __main__ - WARNING - Something maybe fail.\n",
      "2019-12-09 09:27:13,952 - __main__ - INFO - Finish\n"
     ]
    },
    {
     "name": "stdout",
     "output_type": "stream",
     "text": [
      "__main__\n",
      "<Logger __main__ (INFO)>\n"
     ]
    }
   ],
   "source": [
    "# logging中可以选择很多消息级别，如debug、info、warning、error以及critical。默认为logging.WARNNING.\n",
    "# level = logging.DEBUG\n",
    "logging.basicConfig(level = logging.INFO,format = '%(asctime)s - %(name)s - %(levelname)s - %(message)s')\n",
    "\n",
    "print(__name__)\n",
    "logger = logging.getLogger(__name__)\n",
    "print(logger)\n",
    "\n",
    "logger.info(\"Start print log\")\n",
    "logger.debug(\"Do something\")\n",
    "logger.warning(\"Something maybe fail.\")\n",
    "logger.info(\"Finish\")"
   ]
  },
  {
   "cell_type": "code",
   "execution_count": 13,
   "metadata": {},
   "outputs": [
    {
     "name": "stderr",
     "output_type": "stream",
     "text": [
      "Start print log\n",
      "2019-12-09 09:30:43,445 - __main__ - INFO - Start print log\n",
      "Something maybe fail.\n",
      "2019-12-09 09:30:43,445 - __main__ - WARNING - Something maybe fail.\n",
      "Finish\n",
      "2019-12-09 09:30:43,445 - __main__ - INFO - Finish\n"
     ]
    }
   ],
   "source": [
    "# 获得日志\n",
    "logger = logging.getLogger(__name__)\n",
    "# 设置消息级别\n",
    "logger.setLevel(level = logging.INFO)\n",
    "\n",
    "# 将日志写入到文件.\n",
    "# 设置logging，创建一个FileHandler，并对输出消息的格式进行设置，\n",
    "# 将其添加到logger，然后将日志写入到指定的文件中.\n",
    "handler = logging.FileHandler(\"log.txt\")\n",
    "handler.setLevel(logging.INFO)\n",
    "formatter = logging.Formatter('%(asctime)s - %(name)s - %(levelname)s - %(message)s')\n",
    "handler.setFormatter(formatter)\n",
    "logger.addHandler(handler)\n",
    "\n",
    "# 将日志同时输出到屏幕和日志文件\n",
    "# logger中添加StreamHandler，可以将日志输出到屏幕上，\n",
    "console = logging.StreamHandler()\n",
    "console.setLevel(logging.INFO)\n",
    "logger.addHandler(console)\n",
    "\n",
    "logger.info(\"Start print log\")\n",
    "logger.debug(\"Do something\")\n",
    "logger.warning(\"Something maybe fail.\")\n",
    "logger.info(\"Finish\")"
   ]
  },
  {
   "cell_type": "markdown",
   "metadata": {},
   "source": [
    "## functools模块"
   ]
  },
  {
   "cell_type": "code",
   "execution_count": 1,
   "metadata": {},
   "outputs": [],
   "source": [
    "from functools import partial"
   ]
  },
  {
   "cell_type": "code",
   "execution_count": 2,
   "metadata": {},
   "outputs": [],
   "source": [
    "def add(a,b):\n",
    "    return a+b"
   ]
  },
  {
   "cell_type": "code",
   "execution_count": 5,
   "metadata": {},
   "outputs": [
    {
     "name": "stdout",
     "output_type": "stream",
     "text": [
      "3\n",
      "3\n",
      "4\n"
     ]
    }
   ],
   "source": [
    "#使用partial来固定一个参数的值始终为1\n",
    "addOne=partial(add,1)\n",
    "print(add(1,2))\n",
    "print(addOne(2))\n",
    "print(addOne(3))"
   ]
  },
  {
   "cell_type": "markdown",
   "metadata": {},
   "source": [
    "## yield的用法"
   ]
  },
  {
   "cell_type": "markdown",
   "metadata": {},
   "source": [
    "yield 是一个类似 return 的关键字，迭代一次遇到yield时就返回yield后面(右边)的值。重点是：下一次迭代时，从上一次迭代遇到的yield后面的代码(下一行)开始执行。return 的作用：如果没有 return，则默认执行至函数完毕，返回的值一般是yield的变量。"
   ]
  },
  {
   "cell_type": "code",
   "execution_count": 4,
   "metadata": {},
   "outputs": [],
   "source": [
    "def get_num(end):\n",
    "    for i in range(end):\n",
    "        print(\"in func:\",i)\n",
    "        yield i"
   ]
  },
  {
   "cell_type": "code",
   "execution_count": 5,
   "metadata": {},
   "outputs": [
    {
     "name": "stdout",
     "output_type": "stream",
     "text": [
      "in func: 0\n",
      "out func: 0\n",
      "in func: 1\n",
      "out func: 1\n",
      "in func: 2\n",
      "out func: 2\n",
      "in func: 3\n",
      "out func: 3\n",
      "in func: 4\n",
      "out func: 4\n"
     ]
    }
   ],
   "source": [
    "for i in get_num(5):\n",
    "    print(\"out func:\",i)"
   ]
  },
  {
   "cell_type": "markdown",
   "metadata": {},
   "source": [
    "## 字典的get方法"
   ]
  },
  {
   "cell_type": "markdown",
   "metadata": {},
   "source": [
    "Python 字典(Dictionary) get() 函数返回指定键的值，如果值不在字典中返回默认值。"
   ]
  },
  {
   "cell_type": "code",
   "execution_count": 2,
   "metadata": {},
   "outputs": [
    {
     "name": "stdout",
     "output_type": "stream",
     "text": [
      "1\n",
      "2\n"
     ]
    }
   ],
   "source": [
    "d={\"a\":1}\n",
    "print(d.get(\"a\",2))\n",
    "print(d.get(\"b\",2))"
   ]
  },
  {
   "cell_type": "code",
   "execution_count": null,
   "metadata": {},
   "outputs": [],
   "source": []
  }
 ],
 "metadata": {
  "kernelspec": {
   "display_name": "Python 3",
   "language": "python",
   "name": "python3"
  },
  "language_info": {
   "codemirror_mode": {
    "name": "ipython",
    "version": 3
   },
   "file_extension": ".py",
   "mimetype": "text/x-python",
   "name": "python",
   "nbconvert_exporter": "python",
   "pygments_lexer": "ipython3",
   "version": "3.6.4"
  }
 },
 "nbformat": 4,
 "nbformat_minor": 2
}
